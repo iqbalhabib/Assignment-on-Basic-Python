{
  "nbformat": 4,
  "nbformat_minor": 0,
  "metadata": {
    "colab": {
      "provenance": [],
      "authorship_tag": "ABX9TyPZ5Blmg7WGdBgZX3Ccb00z",
      "include_colab_link": true
    },
    "kernelspec": {
      "name": "python3",
      "display_name": "Python 3"
    },
    "language_info": {
      "name": "python"
    }
  },
  "cells": [
    {
      "cell_type": "markdown",
      "metadata": {
        "id": "view-in-github",
        "colab_type": "text"
      },
      "source": [
        "<a href=\"https://colab.research.google.com/github/iqbalhabib/Assignment-on-Basic-Python/blob/main/Assignment_basic_python.ipynb\" target=\"_parent\"><img src=\"https://colab.research.google.com/assets/colab-badge.svg\" alt=\"Open In Colab\"/></a>"
      ]
    },
    {
      "cell_type": "markdown",
      "source": [
        "importing important libraries\n"
      ],
      "metadata": {
        "id": "t-U2-JVp6Kq9"
      }
    },
    {
      "cell_type": "code",
      "source": [
        "import pandas as pd\n",
        "import numpy as np"
      ],
      "metadata": {
        "id": "8dAK4edSIoPs"
      },
      "execution_count": 2,
      "outputs": []
    },
    {
      "cell_type": "markdown",
      "source": [
        "**Problem** **1** : Write a Python program to count the number of characters (character\n",
        "frequency) in a string"
      ],
      "metadata": {
        "id": "VdM91-IFIxlX"
      }
    },
    {
      "cell_type": "code",
      "source": [
        "string = \"Applied Statistics and Data Science \"\n",
        "\n",
        "#an empty dictionary to store the character counts\n",
        "char_freq = {}\n",
        "\n",
        "# Count the frequency of each character\n",
        "for char in string:\n",
        "    if char in char_freq:\n",
        "        char_freq[char] += 1\n",
        "    else:\n",
        "        char_freq[char] = 1\n",
        "\n",
        "# Print the output\n",
        "print(char_freq)"
      ],
      "metadata": {
        "colab": {
          "base_uri": "https://localhost:8080/"
        },
        "id": "RL-PeTTxKHPv",
        "outputId": "7435088a-636c-4d40-ffdc-cdde148c5dfe"
      },
      "execution_count": 3,
      "outputs": [
        {
          "output_type": "stream",
          "name": "stdout",
          "text": [
            "{'A': 1, 'p': 2, 'l': 1, 'i': 4, 'e': 3, 'd': 2, ' ': 5, 'S': 2, 't': 4, 'a': 4, 's': 2, 'c': 3, 'n': 2, 'D': 1}\n"
          ]
        }
      ]
    },
    {
      "cell_type": "markdown",
      "source": [
        "**Problem 2:** Write a Python program to check if a given key already exists in a dictionary.\n"
      ],
      "metadata": {
        "id": "fIwcSvnANDeU"
      }
    },
    {
      "cell_type": "code",
      "source": [
        "# create a sample dictionary\n",
        "my_dict = {'A': 1, 'p': 2, 'l': 1, 'i': 4, 'e': 3, 'd': 2, ' ': 5, 'S': 2, 't': 4, 'a': 4, 's': 2, 'c': 3, 'n': 2, 'D': 1}\n",
        "\n",
        "# function to check if key exists in dictionary\n",
        "def key_exists(key):\n",
        "    if key in my_dict:\n",
        "        return True\n",
        "    else:\n",
        "        return False\n",
        "\n",
        "# take input from user\n",
        "key = input(\"Enter a key to check if it exists in the dictionary: \")\n",
        "\n",
        "# call the function and print the result\n",
        "if key_exists(key):\n",
        "    print(\"Key exists in dictionary\")\n",
        "else:\n",
        "    print(\"Key does not exist in dictionary\")\n"
      ],
      "metadata": {
        "colab": {
          "base_uri": "https://localhost:8080/"
        },
        "id": "mLXCvlh6NO7d",
        "outputId": "5bcba0b6-7075-4cbd-c9cb-cc4a8196200d"
      },
      "execution_count": 7,
      "outputs": [
        {
          "output_type": "stream",
          "name": "stdout",
          "text": [
            "Enter a key to check if it exists in the dictionary: b\n",
            "Key does not exist in dictionary\n"
          ]
        }
      ]
    },
    {
      "cell_type": "markdown",
      "source": [
        "**Problem 03:** Write a Python program that accepts a sequence of comma-separated\n",
        "numbers fromtheuser and generates a list and a tuple of those numbers."
      ],
      "metadata": {
        "id": "RSsvegBKZbRB"
      }
    },
    {
      "cell_type": "code",
      "source": [
        "num_sequence = input(\"Enter a sequence of comma-separated numbers: \")\n",
        "\n",
        "# Convert the sequence of numbers to a list and tuple\n",
        "num_list = num_sequence.split(',')\n",
        "num_tuple = tuple(num_list)\n",
        "\n",
        "# Print the list and tuple of numbers\n",
        "print(\"List: \", num_list)\n",
        "print(\"Tuple:\", num_tuple)"
      ],
      "metadata": {
        "colab": {
          "base_uri": "https://localhost:8080/"
        },
        "id": "fgdwQAIIZjJl",
        "outputId": "f0a771ba-c3a6-4089-d3d0-9c02a9491251"
      },
      "execution_count": 8,
      "outputs": [
        {
          "output_type": "stream",
          "name": "stdout",
          "text": [
            "Enter a sequence of comma-separated numbers: 5,2,2,3,6,7\n",
            "List:  ['5', '2', '2', '3', '6', '7']\n",
            "Tuple: ('5', '2', '2', '3', '6', '7')\n"
          ]
        }
      ]
    },
    {
      "cell_type": "markdown",
      "source": [
        "**Problem 04:** Write a Python program to calculate the number of days between two\n",
        "dates.\n"
      ],
      "metadata": {
        "id": "lfgQQ3Mvbv5I"
      }
    },
    {
      "cell_type": "code",
      "source": [
        "from datetime import date\n",
        "\n",
        "# Define the two dates\n",
        "date1 = date(2014, 7, 2)\n",
        "date2 = date(2014, 7, 11)\n",
        "\n",
        "# Calculate the number of days between the two dates\n",
        "delta = date2 - date1\n",
        "num_days = delta.days\n",
        "\n",
        "# Print the number of days between the two dates\n",
        "print(\"Number of days between\", date1, \"and\", date2, \"is:\", num_days)"
      ],
      "metadata": {
        "colab": {
          "base_uri": "https://localhost:8080/"
        },
        "id": "jkSvrk22b7Xh",
        "outputId": "7c3c6e21-4f69-499b-849e-5da8847e0557"
      },
      "execution_count": 10,
      "outputs": [
        {
          "output_type": "stream",
          "name": "stdout",
          "text": [
            "Number of days between 2014-07-02 and 2014-07-11 is: 9\n"
          ]
        }
      ]
    },
    {
      "cell_type": "markdown",
      "source": [
        "**Problem 05:** Write a Python program to solve (x + y) * (x + y). Test Data : x = 4, y = 3"
      ],
      "metadata": {
        "id": "Sdrynylceehv"
      }
    },
    {
      "cell_type": "code",
      "source": [
        "def add_square(x,y):\n",
        "  result=(x+y)**2\n",
        "  print(f\"(({x}+{y})^2)={result}\")\n",
        "#checking the sample input\n",
        "add_square(4,3)\n"
      ],
      "metadata": {
        "colab": {
          "base_uri": "https://localhost:8080/"
        },
        "id": "HtP_Ha8Pd5E4",
        "outputId": "83e91b14-373d-4783-8f32-8470008c2d34"
      },
      "execution_count": 12,
      "outputs": [
        {
          "output_type": "stream",
          "name": "stdout",
          "text": [
            "((4+3)^2)=49\n"
          ]
        }
      ]
    },
    {
      "cell_type": "markdown",
      "source": [
        "**Problem 06:** Write a Python program to compute the future value of a specified principal\n",
        "amount,rate of interest, and number of years.\n",
        "\n",
        "Test Data : amt = 10000, int_rate = 3.5, years = 7 Expected Output : 12722.79\n",
        "\n"
      ],
      "metadata": {
        "id": "QiRPtzVdeto8"
      }
    },
    {
      "cell_type": "code",
      "source": [
        "amt = 10000\n",
        "int_rate = 3.5\n",
        "years = 7\n",
        "\n",
        "future_value = amt * (1 + int_rate/100)**years\n",
        "\n",
        "print(\"Future value: \", round(future_value, 2))"
      ],
      "metadata": {
        "colab": {
          "base_uri": "https://localhost:8080/"
        },
        "id": "gduOMyxuffrX",
        "outputId": "8a1ba9fd-9988-4319-ef1e-719b0fb357f5"
      },
      "execution_count": 13,
      "outputs": [
        {
          "output_type": "stream",
          "name": "stdout",
          "text": [
            "Future value:  12722.79\n"
          ]
        }
      ]
    },
    {
      "cell_type": "markdown",
      "source": [
        "**Problem 07:** Write a Python program that removes duplicate elements from a given array\n",
        "of numberssothat each element appears only once and returns the new length of the\n",
        "array."
      ],
      "metadata": {
        "id": "fyp4JHjFgHUb"
      }
    },
    {
      "cell_type": "code",
      "source": [
        "arr = [0,0,1,1,2,2,3,3,4,4,4]\n",
        "\n",
        "# Using set() to remove duplicates\n",
        "unique_nums = list(set(arr))\n",
        "\n",
        "print(\"The list of unique numbers:\", unique_nums)\n",
        "print(\"Length of the unique list:\", len(unique_nums))"
      ],
      "metadata": {
        "colab": {
          "base_uri": "https://localhost:8080/"
        },
        "id": "M2-ZpoiYgLYn",
        "outputId": "7211c1de-9f06-43ad-aa1a-3c8f8164038d"
      },
      "execution_count": 14,
      "outputs": [
        {
          "output_type": "stream",
          "name": "stdout",
          "text": [
            "The list of unique numbers: [0, 1, 2, 3, 4]\n",
            "Length of the unique list: 5\n"
          ]
        }
      ]
    },
    {
      "cell_type": "markdown",
      "source": [],
      "metadata": {
        "id": "JZgswW3Detlf"
      }
    },
    {
      "cell_type": "markdown",
      "source": [
        "**Problem 08:** Write a Python program to sort (ascending and descending) a dictionary by\n",
        "key value\n"
      ],
      "metadata": {
        "id": "hczbWLLmgULi"
      }
    },
    {
      "cell_type": "code",
      "source": [],
      "metadata": {
        "id": "BfqP-Z5NgX5Q"
      },
      "execution_count": null,
      "outputs": []
    }
  ]
}